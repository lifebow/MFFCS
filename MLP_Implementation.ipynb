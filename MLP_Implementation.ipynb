{
  "cells": [
    {
      "cell_type": "markdown",
      "metadata": {
        "id": "Ap0z09l0XDTq"
      },
      "source": [
        "# Implementation of Multilayer Perceptrons (MLP)\n",
        "\n",
        "## Giới thiệu về Multilayer Perceptrons (MLP)\n",
        "\n",
        "Multilayer Perceptrons (MLP) là một loại mạng nơ-ron nhân tạo bao gồm nhiều lớp, bao gồm lớp đầu vào, các lớp ẩn và lớp đầu ra. MLP có khả năng học các biểu diễn phi tuyến tính của dữ liệu, làm cho chúng phù hợp với các nhiệm vụ như phân loại và hồi quy. Đây là một trong những mô hình cơ bản của học sâu, được xây dựng dựa trên các nơ-ron kết nối đầy đủ giữa các lớp."
      ]
    },
    {
      "cell_type": "markdown",
      "metadata": {
        "id": "h9-pDPskXDTr"
      },
      "source": [
        "## Implementation\n",
        "\n",
        "Trong phần này, chúng ta implement một MLP đơn giản bằng Python và NumPy. MLP bao gồm một lớp ẩn với hàm kích hoạt ReLU và lớp đầu ra với hàm softmax cho nhiệm vụ phân loại."
      ]
    },
    {
      "cell_type": "code",
      "source": [
        "import numpy as np\n",
        "from torchvision import datasets, transforms\n",
        "from torch.utils.data import DataLoader\n",
        "import matplotlib.pyplot as plt"
      ],
      "metadata": {
        "id": "RE5fu5XKaNlu"
      },
      "execution_count": null,
      "outputs": []
    },
    {
      "cell_type": "markdown",
      "metadata": {
        "id": "UH2w1FiVXDTr"
      },
      "source": [
        "### Khởi tạo tham số\n",
        "\n",
        "Khởi tạo các ma trận trọng số và vector bias:\n",
        "*   Hai ma trận trọng số W1 (784×256) và W2 (256×10), cùng hai vector bias b1 và b2\n",
        "*   W1: Ma trận trọng số kết nối lớp đầu vào (input layer) với lớp ẩn (hidden layer)\n",
        "*   W2: Ma trận trọng số kết nối lớp ẩn với lớp đầu ra (output layer).\n",
        "*   W1 và W2 được khởi tạo ngẫu nhiên (Tránh sự đối xứng: Nếu tất cả trọng số giống nhau, các neuron sẽ học giống nhau → Mạng không hiệu quả) với phân phối chuẩn (Gaussian) với mean = 0, variance = 1 (np.random.randn). Nhân với sigma để kiểm soát phương sai (tránh gradient quá lớnlớn - Exploding Gradient hoặc quá nhỏ - Vanishing gradient)\n",
        "*   b1: Vector bias cho lớp ẩn, giúp mô hình linh hoạt hơn bằng cách dịch chuyển đầu ra.\n",
        "*   b2: Vector bias cho lớp đầu ra, giúp điều chỉnh giá trị đầu ra cuối cùng.\n",
        "*   b1, b2 thường được khởi tạo bằng 0 để đảm bảo tính đối xứng ban đầu. Đôi khi có thể khởi tạo giá trị nhỏ (ví dụ: 0.01) để tránh Dying ReLU khi dùng ReLU."
      ]
    },
    {
      "cell_type": "code",
      "execution_count": null,
      "metadata": {
        "id": "GneKL0RhXDTr"
      },
      "outputs": [],
      "source": [
        "batch_size      = 256\n",
        "learning_rate   = 0.1\n",
        "num_epochs      = 10\n",
        "\n",
        "def init_params(num_inputs, num_hiddens, num_outputs, sigma=0.01):\n",
        "    params = {\n",
        "        'W1': np.random.randn(num_inputs, num_hiddens) * sigma,\n",
        "        'b1': np.zeros((1, num_hiddens)),\n",
        "        'W2': np.random.randn(num_hiddens, num_outputs) * sigma,\n",
        "        'b2': np.zeros((1, num_outputs)),\n",
        "    }\n",
        "    return params, num_inputs"
      ]
    },
    {
      "cell_type": "markdown",
      "source": [
        "### Hàm kích hoạt ReLU\n",
        "ReLU (Rectified Linear Unit) là hàm kích hoạt phi tuyến được sử dụng phổ biến nhất trong các mạng neural sâu (Deep Neural Networks). Nó giúp giải quyết vấn đề vanishing gradient và tăng tốc độ hội tụ của mô hình.\n",
        "$$\\operatorname{ReLU}(z) = \\max(z, 0).$$\n",
        "*   Đơn giản, tính toán nhanh. Chỉ cần so sánh và gán giá trị, không cần phép toán phức tạp như sigmoid/tanh\n",
        "*   Giảm thiểu vanishing gradient (Đạo hàm = 1 khi x > 0, giữ gradient không bị suy giảm qua các lớp.) so với sigmoid/tanh"
      ],
      "metadata": {
        "id": "tlTeI7y1i8n8"
      }
    },
    {
      "cell_type": "code",
      "source": [
        "def relu(Z):\n",
        "    return np.maximum(0, Z)"
      ],
      "metadata": {
        "id": "WI4y4ouDjBCg"
      },
      "execution_count": null,
      "outputs": []
    },
    {
      "cell_type": "markdown",
      "source": [
        "### Softmax cho đầu ra logits\n",
        "$$\\hat{\\mathbf{y}} = \\mathrm{softmax}(\\mathbf{z}) \\quad \\textrm{where}\\quad \\hat{y}_i = \\frac{\\exp(z_i)}{\\sum_j \\exp(z_j)}.$$\n",
        "Biến đầu ra thô (logits) từ lớp cuối cùng (Z) thành phân phối xác suất với các giá trị nằm trong khoảng [0, 1] và tổng = 1. \\\n",
        "Trong thực tế ta dùng `np.exp(Z - np.max(Z, axis=1, keepdims=True))` mà không dùng `np.exp(Z)` để ngăn chặn tràn số khi giá trị trong Z quá lớn. Việc trừ đi giá trị cực đại trên mỗi dòng (hoặc mỗi vector logits) không làm thay đổi kết quả cuối cùng của Softmax về mặt toán học nhưng giúp các giá trị đầu vào cho hàm mũ luôn ≤ 0, từ đó giới hạn kết quả của np.exp trong khoảng\n",
        "(0,1]và đảm bảo tính ổn định số học"
      ],
      "metadata": {
        "id": "5cB6rHfpkDNL"
      }
    },
    {
      "cell_type": "code",
      "source": [
        "def softmax(Z):\n",
        "    exp_Z = np.exp(Z - np.max(Z, axis=1, keepdims=True))\n",
        "    return exp_Z / np.sum(exp_Z, axis=1, keepdims=True)"
      ],
      "metadata": {
        "id": "LqissdaqkHrg"
      },
      "execution_count": null,
      "outputs": []
    },
    {
      "cell_type": "markdown",
      "metadata": {
        "id": "lPW6t3vMXDTr"
      },
      "source": [
        "### Lan truyền thuận Forward Propagation\n",
        "\n",
        "Tính toán đầu ra của mạng:\n",
        "*   Lớp ẩn\n",
        "$$Z_1 = XW_1 + b_1$$\n",
        "Z1: ma trận của lớp ẩn  \n",
        "X: ma trận 2D chứa dữ liệu ảnh đã được flatten từ tensor batch X_train \\\n",
        "W1: ma trận trọng số lớp ẩn \\\n",
        "b1: Bias lớp ẩn\n",
        "$$\\quad A_1 = \\mathrm{ReLU}(Z_1)$$\n",
        "A1: ma trận được tạo bởi hàm kích hoạt ReLU\n",
        "*   Lớp đầu ra (logits)\n",
        "$$Z_2 = A_1W_2 + b_2$$\n",
        "Z2: ma trận của đầu ra  \n",
        "A1: ma trận được tạo bởi hàm kích hoạt ReLU \\\n",
        "W2: ma trận trọng số lớp đầu ra \\\n",
        "b1: Bias lớp đầu ra\n",
        "$$\\quad \\hat Y = \\mathrm{Softmax}(Z_2)$$"
      ]
    },
    {
      "cell_type": "code",
      "execution_count": null,
      "metadata": {
        "id": "7YA74h93XDTs"
      },
      "outputs": [],
      "source": [
        "def forward_propagation(X, params):\n",
        "    W1, b1, W2, b2 = params['W1'], params['b1'], params['W2'], params['b2']\n",
        "    # Lớp ẩn\n",
        "    Z1 = X.dot(W1) + b1\n",
        "    A1 = relu(Z1)                    # kích hoạt\n",
        "    # Lớp đầu ra\n",
        "    Z2 = A1.dot(W2) + b2\n",
        "    Y_hat = softmax(Z2)              # xác suất dự đoán\n",
        "    return Z1, A1, Z2, Y_hat"
      ]
    },
    {
      "cell_type": "markdown",
      "metadata": {
        "id": "STCnUoRghzDw"
      },
      "source": [
        "### Hàm mất mát cross-entropy\n",
        "Tính loss trung bình của Cross-Entropy và gradient\n",
        "*   cross-entropy loss\n",
        "$$ l(\\mathbf{y}, \\hat{\\mathbf{y}})_{sum} = - \\sum_{j=1}^m y_j \\log \\hat{y}_j. $$\n",
        "*   cross-entropy trung bình, tránh cho giá trị loss tăng tỷ lệ thuận với m (số mẫu của bach) khiến cho giá trị loss của bacth có size lớn khác với batch có size nhỏ\n",
        "$$ l(\\mathbf{y}, \\hat{\\mathbf{y}})_{mean} = -  \\frac{1}{m}\\sum_{j=1}^m y_j \\log \\hat{y}_j. $$\n",
        "*   Gradient\n",
        "$$\n",
        "\\partial_{z_j} l(\\mathbf{y}, \\hat{\\mathbf{y}}) = \\frac{\\partial L}{\\partial z_j} = \\frac{1}{m}(\\hat{y}_j - y_j).\n",
        "$$\n",
        "\n",
        "$y_ {j}$ là giá trị one-hot (bằng 1 nếu j là nhãn đúng, và 0 cho các nhãn khác). Khi cập nhật gradient cho lớp đúng, $y_ {j}$ = 1 nên ta có $\\hat{y}_{j}$ - 1\n",
        "$$\n",
        "\\partial_{z_j} l(\\mathbf{y}, \\hat{\\mathbf{y}}) = \\frac{\\partial L}{\\partial z_j} = \\frac{1}{m}(\\hat{y}_j - 1).\n",
        "$$\n",
        "\n",
        "\n"
      ]
    },
    {
      "cell_type": "code",
      "source": [
        "def cross_entropy_loss(Y_hat, Y):\n",
        "    m = Y.shape[0]\n",
        "    # loss\n",
        "    log_likelihood = -np.log(Y_hat[np.arange(m), Y] + 1e-9)\n",
        "    loss = np.sum(log_likelihood) / m\n",
        "    # gradient\n",
        "    dZ2 = Y_hat.copy()\n",
        "    dZ2[np.arange(m), Y] -= 1\n",
        "    dZ2 /= m\n",
        "    return loss, dZ2"
      ],
      "metadata": {
        "id": "fM5hghSxh_Vs"
      },
      "execution_count": null,
      "outputs": []
    },
    {
      "cell_type": "markdown",
      "source": [
        "### Đạo hàm của ReLU\n",
        "Đạo hàm của ReLU rất đơn giản, giúp tính gradient hiệu quả trong quá trình lan truyền ngược (backpropagation)\n",
        "$$\\frac{\\partial}{\\partial z}\\mathrm{ReLU}(z) = \\begin{cases} 1 & \\text{nếu }z>0,\\\\ 0 & \\text{nếu }z \\le 0. \\end{cases}$$\n",
        "*   Tại x = 0: ReLU không khả vi, nhưng trong thực tế, ta thường chọn giá trị 0 hoặc 1.\n",
        "\n"
      ],
      "metadata": {
        "id": "ZOZDfMRZnY_2"
      }
    },
    {
      "cell_type": "code",
      "source": [
        "def relu_derivative(Z):\n",
        "    return (Z > 0).astype(float)"
      ],
      "metadata": {
        "id": "BxUbVLaunbRo"
      },
      "execution_count": null,
      "outputs": []
    },
    {
      "cell_type": "markdown",
      "metadata": {
        "id": "H77Cn0rVXDTs"
      },
      "source": [
        "### Lan truyền ngược và cập nhật tham số\n",
        "\n",
        "Tính gradient và cập nhật tham số bằng gradient descent:\n",
        "*   Gradient của loss theo logits: `_, dZ2 = cross_entropy_loss(Y_hat, Y)`\n",
        "$$dZ_2=\\frac{\\partial L}{\\partial z_2}$$\n",
        " Tương ứng công thức 5.3.9\n",
        "$$\\frac{\\partial J}{\\partial \\mathbf{o}}\n",
        "= \\frac{\\partial L}{\\partial \\mathbf{o}}\n",
        "\\in \\mathbb{R}^q$$\n",
        "*   Gradient w.r.t. W₂ và b₂: \\\n",
        "`dW2 = A1.T.dot(dZ2)`                         \n",
        "$$dW_2=\\mathbf{A_1}^\\top dZ_2$$\n",
        " Tương ứng công thức 5.3.11\n",
        " $$\\frac{\\partial J}{\\partial \\mathbf{W}^{(2)}}= \\frac{\\partial J}{\\partial \\mathbf{o}} \\mathbf{h}^\\top$$\n",
        "`db2 = np.sum(dZ2, axis=0, keepdims=True)`\n",
        "$$db2=\\sum_{i=1}^m dZ_{2,i}$$\n",
        "*   Gradient w.r.t. đầu ra lớp ẩn: `dA1 = dZ2.dot(W2.T)`\n",
        "$$dA_1=dZ_2\\mathbf{W_2}^\\top $$\n",
        "Tương ứng công thức 5.3.12\n",
        "$$\\frac{\\partial J}{\\partial \\mathbf{h}}\n",
        "= {\\mathbf{W}^{(2)}}^\\top \\frac{\\partial J}{\\partial \\mathbf{o}}$$\n",
        "*   Đạo hàm ReLU: `dZ1 = dA1 * relu_derivative(Z1)`\n",
        " $$A_1 = \\mathrm{ReLU}(Z_1)$$\n",
        " Nên\n",
        " $$dZ_1=dA_1 \\odot \\phi'\\left(\\mathbf{Z_1}\\right)$$\n",
        " Tương ứng công thức 5.3.13\n",
        " $$\\frac{\\partial J}{\\partial \\mathbf{z}} = \\frac{\\partial J}{\\partial \\mathbf{h}} \\odot \\phi'\\left(\\mathbf{z}\\right)$$\n",
        "*   Gradient w.r.t. W₁ và b₁: \\\n",
        "`dW1 = X.T.dot(dZ1)`                         \n",
        "$$dW_1=\\mathbf{X}^\\top dZ_1$$\n",
        " Tương ứng công thức 5.3.11\n",
        " $$\\frac{\\partial J}{\\partial \\mathbf{W}^{(1)}} = \\frac{\\partial J}{\\partial \\mathbf{z}} \\mathbf{x}^\\top$$\n",
        "`db1 = np.sum(dZ1, axis=0, keepdims=True)`\n",
        "$$db1=\\sum_{i=1}^m dZ_{1,i}$$\n",
        "*   Cập nhật tham số\n",
        "$$W1_{new}=W1_{old} - \\alpha.\\frac{\\partial L}{\\partial W1}$$\n",
        "`α: Learning rate` \\\n",
        "$\\frac{\\partial L}{\\partial W1}$: Gradient của loss L theo W1 (chính là `grads['dW1']`)."
      ]
    },
    {
      "cell_type": "code",
      "execution_count": null,
      "metadata": {
        "id": "ydAnPvVNXDTs"
      },
      "outputs": [],
      "source": [
        "def backward_propagation(X, Y, cache, params):\n",
        "    W1, W2 = params['W1'], params['W2']\n",
        "    Z1, A1, Z2, Y_hat = cache\n",
        "    m = X.shape[0]\n",
        "\n",
        "    # Lấy gradient từ loss\n",
        "    _, dZ2 = cross_entropy_loss(Y_hat, Y)\n",
        "    # Gradients cho W2, b2\n",
        "    dW2 = A1.T.dot(dZ2)\n",
        "    db2 = np.sum(dZ2, axis=0, keepdims=True)\n",
        "    # Backprop vào lớp ẩn\n",
        "    dA1 = dZ2.dot(W2.T)\n",
        "    dZ1 = dA1 * relu_derivative(Z1)\n",
        "    # Gradients cho W1, b1\n",
        "    dW1 = X.T.dot(dZ1)\n",
        "    db1 = np.sum(dZ1, axis=0, keepdims=True)\n",
        "\n",
        "    return {'dW1': dW1, 'db1': db1, 'dW2': dW2, 'db2': db2}\n",
        "\n",
        "def update_params(params, grads, learning_rate):\n",
        "    params['W1'] -= learning_rate * grads['dW1']\n",
        "    params['b1'] -= learning_rate * grads['db1']\n",
        "    params['W2'] -= learning_rate * grads['dW2']\n",
        "    params['b2'] -= learning_rate * grads['db2']"
      ]
    },
    {
      "cell_type": "markdown",
      "source": [
        "### Đánh giá độ chính xác"
      ],
      "metadata": {
        "id": "y54IyNONoVvJ"
      }
    },
    {
      "cell_type": "code",
      "source": [
        "def evaluate_accuracy(data_loader, params, num_inputs):\n",
        "    correct = total = 0\n",
        "    for X_t, y_t in data_loader:\n",
        "        X_np = X_t.numpy().reshape(-1, num_inputs)\n",
        "        Z1, A1, Z2, Y_hat = forward_propagation(X_np, params)\n",
        "        y_pred = np.argmax(Y_hat, axis=1)\n",
        "        correct += np.sum(y_pred == y_t.numpy())\n",
        "        total += y_t.shape[0]\n",
        "    return correct / total\n",
        "\n",
        "def evaluate_loss(data_loader, params, num_inputs):\n",
        "    total_loss = 0.0\n",
        "    total_samples = 0\n",
        "    for X_t, y_t in data_loader:\n",
        "        X_np = X_t.numpy().reshape(-1, num_inputs)\n",
        "        _, _, _, Y_hat = forward_propagation(X_np, params)\n",
        "        loss, _ = cross_entropy_loss(Y_hat, y_t.numpy())\n",
        "        total_loss += loss * X_np.shape[0]\n",
        "        total_samples += X_np.shape[0]\n",
        "    return total_loss / total_samples"
      ],
      "metadata": {
        "id": "7wwM20avoXQL"
      },
      "execution_count": null,
      "outputs": []
    },
    {
      "cell_type": "markdown",
      "source": [
        "### Tải dữ liệu Fashion-MNIST"
      ],
      "metadata": {
        "id": "wNd8BD3sqAyP"
      }
    },
    {
      "cell_type": "code",
      "source": [
        "transform = transforms.Compose([transforms.ToTensor()])\n",
        "train_ds = datasets.FashionMNIST(root='data', train=True, download=True, transform=transform)\n",
        "test_ds  = datasets.FashionMNIST(root='data', train=False, download=True, transform=transform)\n",
        "train_loader = DataLoader(train_ds, batch_size=batch_size, shuffle=True)\n",
        "test_loader  = DataLoader(test_ds,  batch_size=batch_size, shuffle=False)"
      ],
      "metadata": {
        "colab": {
          "base_uri": "https://localhost:8080/"
        },
        "id": "NRzCZnthqDgv",
        "outputId": "8f62fb25-b625-4237-fc37-5e828d06e0d2"
      },
      "execution_count": null,
      "outputs": [
        {
          "output_type": "stream",
          "name": "stderr",
          "text": [
            "100%|██████████| 26.4M/26.4M [00:00<00:00, 125MB/s]\n",
            "100%|██████████| 29.5k/29.5k [00:00<00:00, 3.62MB/s]\n",
            "100%|██████████| 4.42M/4.42M [00:00<00:00, 63.7MB/s]\n",
            "100%|██████████| 5.15k/5.15k [00:00<00:00, 8.63MB/s]\n"
          ]
        }
      ]
    },
    {
      "cell_type": "markdown",
      "source": [
        "### Huấn luyện mô hình"
      ],
      "metadata": {
        "id": "ZHO6MwmkorBK"
      }
    },
    {
      "cell_type": "code",
      "execution_count": null,
      "metadata": {
        "colab": {
          "base_uri": "https://localhost:8080/"
        },
        "id": "CCUtSR-NXDTs",
        "outputId": "2f56a728-99fb-42df-9ba5-963e2096b154"
      },
      "outputs": [
        {
          "output_type": "stream",
          "name": "stdout",
          "text": [
            "Epoch 1: train_loss=1.0494, test_loss=0.7002, train_acc=0.7581, test_acc=0.7497\n",
            "Epoch 2: train_loss=0.5979, test_loss=0.6743, train_acc=0.7837, test_acc=0.7738\n",
            "Epoch 3: train_loss=0.5186, test_loss=0.5254, train_acc=0.8244, test_acc=0.8089\n",
            "Epoch 4: train_loss=0.4787, test_loss=0.4958, train_acc=0.8382, test_acc=0.8241\n",
            "Epoch 5: train_loss=0.4554, test_loss=0.4885, train_acc=0.8418, test_acc=0.8318\n",
            "Epoch 6: train_loss=0.4347, test_loss=0.5081, train_acc=0.8357, test_acc=0.8229\n",
            "Epoch 7: train_loss=0.4192, test_loss=0.4395, train_acc=0.8591, test_acc=0.8440\n",
            "Epoch 8: train_loss=0.4078, test_loss=0.4622, train_acc=0.8481, test_acc=0.8338\n",
            "Epoch 9: train_loss=0.3938, test_loss=0.4240, train_acc=0.8659, test_acc=0.8493\n",
            "Epoch 10: train_loss=0.3820, test_loss=0.4511, train_acc=0.8560, test_acc=0.8419\n"
          ]
        }
      ],
      "source": [
        "train_losses = []\n",
        "accuracy_losses = []\n",
        "train_accs = []\n",
        "test_accs = []\n",
        "params, num_inputs = init_params(28 * 28, 256, 10, 0.01)\n",
        "# Vòng lặp huấn luyện\n",
        "for epoch in range(1, num_epochs+1):\n",
        "    epoch_loss = 0.0\n",
        "    for X_t, y_t in train_loader:\n",
        "        # Chuyển sang numpy\n",
        "        X_np = X_t.numpy().reshape(-1, num_inputs)\n",
        "        y_np = y_t.numpy()\n",
        "\n",
        "        # Forward\n",
        "        cache = forward_propagation(X_np, params)\n",
        "        _, _, _, Y_hat = cache\n",
        "\n",
        "        # Tính loss\n",
        "        loss, _ = cross_entropy_loss(Y_hat, y_np)\n",
        "        epoch_loss += loss * X_np.shape[0]\n",
        "\n",
        "        # Backward\n",
        "        grads = backward_propagation(X_np, y_np, cache, params)\n",
        "\n",
        "        # Cập nhật tham số\n",
        "        update_params(params, grads, learning_rate)\n",
        "\n",
        "    # Tính và lưu kết quả sau mỗi epoch\n",
        "    train_losses.append(epoch_loss / len(train_ds))\n",
        "    train_accs.append(evaluate_accuracy(train_loader, params, num_inputs))\n",
        "    test_accs.append(evaluate_accuracy(test_loader, params, num_inputs))\n",
        "    accuracy_losses.append(evaluate_loss(test_loader, params, num_inputs))\n",
        "\n",
        "    print(f\"Epoch {epoch}: \"\n",
        "          f\"train_loss={train_losses[-1]:.4f}, \"\n",
        "          f\"test_loss={accuracy_losses[-1]:.4f}, \"\n",
        "          f\"train_acc={train_accs[-1]:.4f}, \"\n",
        "          f\"test_acc={test_accs[-1]:.4f}\")"
      ]
    },
    {
      "cell_type": "markdown",
      "source": [
        "### Tạo graph"
      ],
      "metadata": {
        "id": "7ddoNgc5o5P-"
      }
    },
    {
      "cell_type": "code",
      "source": [
        "# Vẽ graph\n",
        "plt.figure(figsize=(8, 4))\n",
        "epochs = list(range(1, num_epochs+1))\n",
        "plt.plot(epochs, train_losses, label='Train Loss')\n",
        "plt.plot(epochs, accuracy_losses, label='Loss Accuracy')\n",
        "plt.plot(epochs, test_accs, label='Test Accuracy')\n",
        "plt.title(\"Accuracy over Epochs\")\n",
        "plt.xlabel(\"Epoch\")\n",
        "plt.ylabel(\"Accuracy\")\n",
        "plt.legend()"
      ],
      "metadata": {
        "colab": {
          "base_uri": "https://localhost:8080/",
          "height": 427
        },
        "id": "K75_I4q3o8JK",
        "outputId": "39f1bef1-dc26-488f-a178-dd9fd5ef5910"
      },
      "execution_count": null,
      "outputs": [
        {
          "output_type": "execute_result",
          "data": {
            "text/plain": [
              "<matplotlib.legend.Legend at 0x79e54274e8d0>"
            ]
          },
          "metadata": {},
          "execution_count": 14
        },
        {
          "output_type": "display_data",
          "data": {
            "text/plain": [
              "<Figure size 800x400 with 1 Axes>"
            ],
            "image/png": "[encoded data removed]"
          },
          "metadata": {}
        }
      ]
    },
    {
      "cell_type": "markdown",
      "metadata": {
        "id": "hlKI8ZnkXDTs"
      },
      "source": [
        "## Exercises"
      ]
    },
    {
      "cell_type": "markdown",
      "metadata": {
        "id": "1tvAdDfrXDTs"
      },
      "source": [
        "### Câu 4: Thiết kế MLP với hai lớp ẩn\n",
        "\n",
        "MLP với lớp ẩn thứ nhất dùng ReLU, lớp thứ hai dùng tanh:"
      ]
    },
    {
      "cell_type": "code",
      "execution_count": null,
      "metadata": {
        "id": "1r5yIKWHXDTs"
      },
      "outputs": [],
      "source": [
        "class MLPWithTwoHiddenLayers(nn.Module):\n",
        "    def __init__(self, input_size, hidden_size1, hidden_size2, output_size):\n",
        "        super(MLPWithTwoHiddenLayers, self).__init__()\n",
        "        self.fc1 = nn.Linear(input_size, hidden_size1)\n",
        "        self.relu = nn.ReLU()\n",
        "        self.fc2 = nn.Linear(hidden_size1, hidden_size2)\n",
        "        self.tanh = nn.Tanh()\n",
        "        self.fc3 = nn.Linear(hidden_size2, output_size)\n",
        "\n",
        "    def forward(self, x):\n",
        "        x = self.fc1(x)\n",
        "        x = self.relu(x)\n",
        "        x = self.fc2(x)\n",
        "        x = self.tanh(x)\n",
        "        x = self.fc3(x)\n",
        "        return x"
      ]
    }
  ],
  "metadata": {
    "kernelspec": {
      "display_name": "Python 3",
      "language": "python",
      "name": "python3"
    },
    "language_info": {
      "codemirror_mode": {
        "name": "ipython",
        "version": 3
      },
      "file_extension": ".py",
      "mimetype": "text/x-python",
      "name": "python",
      "nbconvert_exporter": "python",
      "pygments_lexer": "ipython3",
      "version": "3.8.5"
    },
    "colab": {
      "provenance": []
    }
  },
  "nbformat": 4,
  "nbformat_minor": 0
}